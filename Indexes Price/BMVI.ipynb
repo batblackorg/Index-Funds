{
  "nbformat": 4,
  "nbformat_minor": 0,
  "metadata": {
    "colab": {
      "name": "BMVI.ipynb",
      "provenance": [],
      "collapsed_sections": []
    },
    "kernelspec": {
      "name": "python3",
      "display_name": "Python 3"
    },
    "language_info": {
      "name": "python"
    },
    "accelerator": "GPU"
  },
  "cells": [
    {
      "cell_type": "code",
      "source": [
        "!pip install pycoingecko\n",
        "from pycoingecko import CoinGeckoAPI\n",
        "cg = CoinGeckoAPI()\n",
        "import pandas as pd\n",
        "d1= pd.DataFrame.from_dict(cg.get_price('decentraland',vs_currencies='usd'))\n",
        "d2= pd.DataFrame.from_dict(cg.get_price('the-sandbox',vs_currencies='usd'))\n",
        "d3= pd.DataFrame.from_dict(cg.get_price('apecoin',vs_currencies='usd'))\n",
        "d4= pd.DataFrame.from_dict(cg.get_price('victoria-vr',vs_currencies='usd'))\n",
        "d5= pd.DataFrame.from_dict(cg.get_price('wilder-world',vs_currencies='usd'))\n",
        "d6= pd.DataFrame.from_dict(cg.get_price('bloktopia',vs_currencies='usd'))\n",
        "d7= pd.DataFrame.from_dict(cg.get_price('somnium-space-cubes',vs_currencies='usd'))\n",
        "c1=d1['decentraland']\n",
        "c2=d2['the-sandbox']\n",
        "c3=d3['apecoin']\n",
        "c4=d4['victoria-vr']\n",
        "c5=d5['wilder-world']\n",
        "c6=d6['bloktopia']\n",
        "c7=d7['somnium-space-cubes']\n",
        "x=(c1,c2,c3,c4,c5,c6,c7)\n",
        "print(x)\n",
        "price_final=(c1*.28+c2*.23+c3*.15+c4*.10+c5*.10+c6*.06+c7*.08)\n",
        "bmvi=price_final+price_final*0.02\n",
        "print(bmvi,price_final)"
      ],
      "metadata": {
        "colab": {
          "base_uri": "https://localhost:8080/"
        },
        "id": "ESy-sy3SJxDk",
        "outputId": "898da96c-a2bd-4d73-bb84-0edc427c5e46"
      },
      "execution_count": 9,
      "outputs": [
        {
          "output_type": "stream",
          "name": "stdout",
          "text": [
            "Requirement already satisfied: pycoingecko in /usr/local/lib/python3.7/dist-packages (2.2.0)\n",
            "Requirement already satisfied: requests in /usr/local/lib/python3.7/dist-packages (from pycoingecko) (2.23.0)\n",
            "Requirement already satisfied: certifi>=2017.4.17 in /usr/local/lib/python3.7/dist-packages (from requests->pycoingecko) (2021.10.8)\n",
            "Requirement already satisfied: chardet<4,>=3.0.2 in /usr/local/lib/python3.7/dist-packages (from requests->pycoingecko) (3.0.4)\n",
            "Requirement already satisfied: urllib3!=1.25.0,!=1.25.1,<1.26,>=1.21.1 in /usr/local/lib/python3.7/dist-packages (from requests->pycoingecko) (1.24.3)\n",
            "Requirement already satisfied: idna<3,>=2.5 in /usr/local/lib/python3.7/dist-packages (from requests->pycoingecko) (2.10)\n",
            "(usd    1.86\n",
            "Name: decentraland, dtype: float64, usd    2.55\n",
            "Name: the-sandbox, dtype: float64, usd    18.45\n",
            "Name: apecoin, dtype: float64, usd    0.128755\n",
            "Name: victoria-vr, dtype: float64, usd    0.980918\n",
            "Name: wilder-world, dtype: float64, usd    0.013371\n",
            "Name: bloktopia, dtype: float64, usd    4.36\n",
            "Name: somnium-space-cubes, dtype: float64)\n",
            "usd    4.422077\n",
            "dtype: float64 usd    4.33537\n",
            "dtype: float64\n"
          ]
        }
      ]
    },
    {
      "cell_type": "code",
      "source": [
        ""
      ],
      "metadata": {
        "id": "QxL6Cs_AgrOx"
      },
      "execution_count": null,
      "outputs": []
    }
  ]
}